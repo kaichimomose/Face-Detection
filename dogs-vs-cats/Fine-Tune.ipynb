{
 "cells": [
  {
   "cell_type": "code",
   "execution_count": 47,
   "metadata": {},
   "outputs": [],
   "source": [
    "import numpy as np\n",
    "from keras.preprocessing.image import ImageDataGenerator\n",
    "from keras.models import Sequential, Model\n",
    "from keras.layers import Dropout, Flatten, Dense\n",
    "from keras import applications, optimizers"
   ]
  },
  {
   "cell_type": "code",
   "execution_count": 51,
   "metadata": {
    "collapsed": true
   },
   "outputs": [],
   "source": [
    "train_data = np.load('train_cats_and_dogs_images.npz')['arr_0'].reshape([-1, 150, 150, 3])\n",
    "\n",
    "test_data = np.load('test_cats_and_dogs_images.npz')['arr_0'].reshape([-1, 150, 150, 3])\n",
    "\n",
    "train = np.zeros([2000, 150, 150, 3])\n",
    "for i in range(2000):\n",
    "    train[i] = train_data[i]\n",
    "train_labels = np.array([0] * 1000 + [1] * 1000)\n",
    "    \n",
    "test = np.zeros([800, 150, 150, 3])\n",
    "for i in range(800):\n",
    "    test[i] = test_data[i]\n",
    "test_labels = np.array([0] * 400 + [1] * 400)"
   ]
  },
  {
   "cell_type": "code",
   "execution_count": 23,
   "metadata": {
    "collapsed": true
   },
   "outputs": [],
   "source": [
    "weight_path = 'bottleneck_fc_model.h5'\n",
    "top_model_weight_path = 'first_try.h5'"
   ]
  },
  {
   "cell_type": "code",
   "execution_count": 24,
   "metadata": {
    "collapsed": true
   },
   "outputs": [],
   "source": [
    "batch_size = 16\n",
    "epochs = 10"
   ]
  },
  {
   "cell_type": "code",
   "execution_count": 38,
   "metadata": {},
   "outputs": [
    {
     "name": "stdout",
     "output_type": "stream",
     "text": [
      "Model loaded.\n"
     ]
    }
   ],
   "source": [
    "# build the VGG16 network\n",
    "base_model = applications.VGG16(weights='imagenet', include_top=False, input_shape=(150,150,3))\n",
    "print('Model loaded.')"
   ]
  },
  {
   "cell_type": "code",
   "execution_count": 39,
   "metadata": {},
   "outputs": [],
   "source": [
    "# build a classifier model to put on top of the convolutional model\n",
    "top_model = Sequential()\n",
    "top_model.add(Flatten(input_shape=base_model.output_shape[1:]))\n",
    "top_model.add(Dense(256, activation='relu'))\n",
    "top_model.add(Dropout(0.5))\n",
    "top_model.add(Dense(1, activation='sigmoid'))"
   ]
  },
  {
   "cell_type": "code",
   "execution_count": 40,
   "metadata": {},
   "outputs": [],
   "source": [
    "# note that it is necessary to start with a fully-trained\n",
    "# classifier, including the top classifier in order to successfully do fine-tuning\n",
    "top_model.load_weights(weight_path)"
   ]
  },
  {
   "cell_type": "code",
   "execution_count": 43,
   "metadata": {},
   "outputs": [],
   "source": [
    "# add the model on top of the convolutional base\n",
    "model = Model(inputs=base_model.input, outputs=top_model(base_model.output))"
   ]
  },
  {
   "cell_type": "code",
   "execution_count": 57,
   "metadata": {},
   "outputs": [
    {
     "name": "stdout",
     "output_type": "stream",
     "text": [
      "[<keras.engine.topology.InputLayer object at 0x181c54dbe0>, <keras.layers.convolutional.Conv2D object at 0x181c54df28>, <keras.layers.convolutional.Conv2D object at 0x181c54deb8>, <keras.layers.pooling.MaxPooling2D object at 0x181c564fd0>, <keras.layers.convolutional.Conv2D object at 0x18183b68d0>, <keras.layers.convolutional.Conv2D object at 0x18183b6f98>, <keras.layers.pooling.MaxPooling2D object at 0x18183dc278>, <keras.layers.convolutional.Conv2D object at 0x1818a0c080>, <keras.layers.convolutional.Conv2D object at 0x1818a0cba8>, <keras.layers.convolutional.Conv2D object at 0x1818a23668>, <keras.layers.pooling.MaxPooling2D object at 0x1818a48048>, <keras.layers.convolutional.Conv2D object at 0x1818a6b780>, <keras.layers.convolutional.Conv2D object at 0x1818a6b0b8>, <keras.layers.convolutional.Conv2D object at 0x1818bd7fd0>, <keras.layers.pooling.MaxPooling2D object at 0x1818bfacc0>, <keras.layers.convolutional.Conv2D object at 0x1818c22208>, <keras.layers.convolutional.Conv2D object at 0x1818c22d30>, <keras.layers.convolutional.Conv2D object at 0x1818c44630>, <keras.layers.pooling.MaxPooling2D object at 0x1818c58358>, <keras.models.Sequential object at 0x1818c90e48>]\n"
     ]
    }
   ],
   "source": [
    "# set the first 15 layers (up to the last conv block)\n",
    "# to non-trainable (weights will not be updated)\n",
    "for layer in model.layers[:15]:\n",
    "    layer.trainable = False\n",
    "\n",
    "print(model.layers)"
   ]
  },
  {
   "cell_type": "code",
   "execution_count": 54,
   "metadata": {},
   "outputs": [],
   "source": [
    "# compile the model with a SGD/momentum optimizer\n",
    "# and a very slow learning rate.\n",
    "model.compile(loss='binary_crossentropy',\n",
    "              optimizer=optimizers.SGD(lr=1e-4, momentum=0.9),\n",
    "              metrics=['accuracy'])"
   ]
  },
  {
   "cell_type": "code",
   "execution_count": 49,
   "metadata": {
    "collapsed": true
   },
   "outputs": [],
   "source": [
    "# prepare data augmentation configuration\n",
    "train_datagen = ImageDataGenerator(rescale=1./255,\n",
    "                                   shear_range=0.2,\n",
    "                                   zoom_range=0.2,\n",
    "                                   horizontal_flip=True)\n",
    "\n",
    "test_datagen = ImageDataGenerator(rescale=1./255)"
   ]
  },
  {
   "cell_type": "code",
   "execution_count": 50,
   "metadata": {
    "collapsed": true
   },
   "outputs": [],
   "source": [
    "train_datagen.fit(train)\n",
    "test_datagen.fit(test)"
   ]
  },
  {
   "cell_type": "code",
   "execution_count": 56,
   "metadata": {},
   "outputs": [
    {
     "name": "stderr",
     "output_type": "stream",
     "text": [
      "/anaconda3/lib/python3.6/site-packages/ipykernel_launcher.py:5: UserWarning: Update your `fit_generator` call to the Keras 2 API: `fit_generator(<keras.pre..., epochs=10, validation_data=<keras.pre..., validation_steps=50, steps_per_epoch=7)`\n",
      "  \"\"\"\n"
     ]
    },
    {
     "name": "stdout",
     "output_type": "stream",
     "text": [
      "Epoch 1/10\n",
      "7/7 [==============================] - 758s 108s/step - loss: 0.6524 - acc: 0.8125 - val_loss: 0.6499 - val_acc: 0.8762\n",
      "Epoch 2/10\n",
      "7/7 [==============================] - 729s 104s/step - loss: 0.5326 - acc: 0.8125 - val_loss: 0.4470 - val_acc: 0.8375\n",
      "Epoch 3/10\n",
      "7/7 [==============================] - 733s 105s/step - loss: 0.4962 - acc: 0.8571 - val_loss: 0.4616 - val_acc: 0.8263\n",
      "Epoch 4/10\n",
      "7/7 [==============================] - 728s 104s/step - loss: 0.3959 - acc: 0.8304 - val_loss: 0.3691 - val_acc: 0.8313\n",
      "Epoch 5/10\n",
      "7/7 [==============================] - 731s 104s/step - loss: 0.3579 - acc: 0.8214 - val_loss: 0.3237 - val_acc: 0.8788\n",
      "Epoch 6/10\n",
      "7/7 [==============================] - 727s 104s/step - loss: 0.3790 - acc: 0.8304 - val_loss: 0.3377 - val_acc: 0.8838\n",
      "Epoch 7/10\n",
      "7/7 [==============================] - 730s 104s/step - loss: 0.3165 - acc: 0.8750 - val_loss: 0.3676 - val_acc: 0.8850\n",
      "Epoch 8/10\n",
      "7/7 [==============================] - 733s 105s/step - loss: 0.2518 - acc: 0.9018 - val_loss: 0.6005 - val_acc: 0.8562\n",
      "Epoch 9/10\n",
      "7/7 [==============================] - 733s 105s/step - loss: 0.7182 - acc: 0.8393 - val_loss: 0.4709 - val_acc: 0.8688\n",
      "Epoch 10/10\n",
      "7/7 [==============================] - 728s 104s/step - loss: 0.3217 - acc: 0.9107 - val_loss: 0.4324 - val_acc: 0.8600\n"
     ]
    },
    {
     "data": {
      "text/plain": [
       "<keras.callbacks.History at 0x181c5a9588>"
      ]
     },
     "execution_count": 56,
     "metadata": {},
     "output_type": "execute_result"
    }
   ],
   "source": [
    "model.fit_generator(train_datagen.flow(train, train_labels, batch_size=batch_size),\n",
    "                    samples_per_epoch=train.shape[0] // batch_size, \n",
    "                    epochs=epochs, \n",
    "                    validation_data=test_datagen.flow(test, test_labels),\n",
    "                    validation_steps=test.shape[0] // batch_size)"
   ]
  },
  {
   "cell_type": "code",
   "execution_count": null,
   "metadata": {
    "collapsed": true
   },
   "outputs": [],
   "source": []
  }
 ],
 "metadata": {
  "kernelspec": {
   "display_name": "Python 3",
   "language": "python",
   "name": "python3"
  },
  "language_info": {
   "codemirror_mode": {
    "name": "ipython",
    "version": 3
   },
   "file_extension": ".py",
   "mimetype": "text/x-python",
   "name": "python",
   "nbconvert_exporter": "python",
   "pygments_lexer": "ipython3",
   "version": "3.6.3"
  }
 },
 "nbformat": 4,
 "nbformat_minor": 2
}
