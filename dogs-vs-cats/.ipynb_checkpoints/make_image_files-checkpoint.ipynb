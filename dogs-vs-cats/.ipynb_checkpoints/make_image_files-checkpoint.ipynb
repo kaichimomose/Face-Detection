{
 "cells": [
  {
   "cell_type": "code",
   "execution_count": 5,
   "metadata": {},
   "outputs": [],
   "source": [
    "from keras.preprocessing.image import array_to_img, img_to_array, load_img\n",
    "import numpy as np"
   ]
  },
  {
   "cell_type": "code",
   "execution_count": 3,
   "metadata": {
    "collapsed": true
   },
   "outputs": [],
   "source": [
    "image_classes = ['cat', 'dog']"
   ]
  },
  {
   "cell_type": "code",
   "execution_count": 17,
   "metadata": {},
   "outputs": [
    {
     "name": "stdout",
     "output_type": "stream",
     "text": [
      "(150, 150, 3)\n",
      "(150, 150, 3)\n",
      "(150, 150, 3)\n",
      "(150, 150, 3)\n"
     ]
    }
   ],
   "source": [
    "ary = np.zeros([2, 1000, 3, 150, 150], dtype=np.uint8)\n",
    "class_number = 0\n",
    "for class_ in image_classes:\n",
    "    for i in range(2):\n",
    "        image_path = 'train/{}.{}.jpg'.format(class_, i)\n",
    "        img = load_img(image_path)  # this is a PIL image\n",
    "        img = img.resize((150, 150))\n",
    "        x = img_to_array(img)\n",
    "        img.save(\"{}.{}.jpg\".format(class_, i), \"JPEG\", optimize=True)\n",
    "        print(x.shape)\n",
    "#         x = x.resize((150, 150))\n",
    "#         print(x.shape)\n",
    "#         x = x.reshape(3, 150, 150)\n",
    "#         ary[class_number, i] = x\n",
    "    class_number += 1\n",
    "# np.savez_compressed(\"cats_and_dogs_images.npz\", ary)"
   ]
  },
  {
   "cell_type": "code",
   "execution_count": null,
   "metadata": {
    "collapsed": true
   },
   "outputs": [],
   "source": []
  }
 ],
 "metadata": {
  "kernelspec": {
   "display_name": "Python 3",
   "language": "python",
   "name": "python3"
  },
  "language_info": {
   "codemirror_mode": {
    "name": "ipython",
    "version": 3
   },
   "file_extension": ".py",
   "mimetype": "text/x-python",
   "name": "python",
   "nbconvert_exporter": "python",
   "pygments_lexer": "ipython3",
   "version": "3.6.3"
  }
 },
 "nbformat": 4,
 "nbformat_minor": 2
}
