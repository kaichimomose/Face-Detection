{
 "cells": [
  {
   "cell_type": "code",
   "execution_count": 1,
   "metadata": {},
   "outputs": [
    {
     "name": "stderr",
     "output_type": "stream",
     "text": [
      "Using TensorFlow backend.\n"
     ]
    }
   ],
   "source": [
    "import numpy as np\n",
    "import scipy.misc\n",
    "from keras import backend as K\n",
    "# from keras import initializations\n",
    "from keras.layers import Conv2D, MaxPooling2D\n",
    "from keras.layers import Dense, Dropout, Activation, Flatten\n",
    "from keras.models import Sequential\n",
    "from keras.preprocessing.image import ImageDataGenerator\n",
    "from keras.utils import np_utils"
   ]
  },
  {
   "cell_type": "code",
   "execution_count": 38,
   "metadata": {},
   "outputs": [],
   "source": [
    "train_data = np.load('train_cats_and_dogs_images.npz')['arr_0'].reshape([-1, 150, 150, 3])\n",
    "# the features were saved in order, so recreating the labels is easy\n",
    "train_labels = np.array([0] * 1000 + [1] * 1000)\n",
    "\n",
    "test_data = np.load('test_cats_and_dogs_images.npz')['arr_0'].reshape([-1, 150, 150, 3])\n",
    "test_labels = np.array([0] * 400 + [1] * 400)"
   ]
  },
  {
   "cell_type": "code",
   "execution_count": 39,
   "metadata": {},
   "outputs": [],
   "source": [
    "train = np.zeros([2000, 150, 150, 3])\n",
    "for i in range(2000):\n",
    "    train[i] = train_data[i]"
   ]
  },
  {
   "cell_type": "code",
   "execution_count": 40,
   "metadata": {},
   "outputs": [],
   "source": [
    "test = np.zeros([800, 150, 150, 3])\n",
    "for i in range(800):\n",
    "    test[i] = test_data[i]"
   ]
  },
  {
   "cell_type": "code",
   "execution_count": 41,
   "metadata": {
    "collapsed": true
   },
   "outputs": [],
   "source": [
    "# this is the augmentation configuration we will use for training\n",
    "train_datagen = ImageDataGenerator(\n",
    "        rescale=1./255,\n",
    "        shear_range=0.2,\n",
    "        zoom_range=0.2,\n",
    "        horizontal_flip=True)\n",
    "\n",
    "# this is the augmentation configuration we will use for testing:\n",
    "# only rescaling\n",
    "test_datagen = ImageDataGenerator(rescale=1./255)"
   ]
  },
  {
   "cell_type": "code",
   "execution_count": 42,
   "metadata": {
    "collapsed": true
   },
   "outputs": [],
   "source": [
    "train_datagen.fit(train)\n",
    "test_datagen.fit(test)"
   ]
  },
  {
   "cell_type": "code",
   "execution_count": 55,
   "metadata": {
    "collapsed": true
   },
   "outputs": [],
   "source": [
    "model = Sequential()\n",
    "model.add(Conv2D(32, (3, 3), input_shape=(150, 150, 3)))\n",
    "model.add(Activation('relu'))\n",
    "model.add(MaxPooling2D(pool_size=(2, 2)))\n",
    "\n",
    "model.add(Conv2D(32, (3, 3)))\n",
    "model.add(Activation('relu'))\n",
    "model.add(MaxPooling2D(pool_size=(2, 2)))\n",
    "\n",
    "model.add(Conv2D(64, (3, 3)))\n",
    "model.add(Activation('relu'))\n",
    "model.add(MaxPooling2D(pool_size=(2, 2)))\n",
    "\n",
    "model.add(Flatten())  # this converts our 3D feature maps to 1D feature vectors\n",
    "model.add(Dense(64))\n",
    "model.add(Activation('relu'))\n",
    "model.add(Dropout(0.5))\n",
    "model.add(Dense(1))\n",
    "model.add(Activation('sigmoid'))\n",
    "\n",
    "model.compile(loss='binary_crossentropy',\n",
    "              optimizer='rmsprop',\n",
    "              metrics=['accuracy'])"
   ]
  },
  {
   "cell_type": "code",
   "execution_count": 56,
   "metadata": {},
   "outputs": [
    {
     "name": "stderr",
     "output_type": "stream",
     "text": [
      "/anaconda3/lib/python3.6/site-packages/ipykernel_launcher.py:4: UserWarning: The semantics of the Keras 2 argument `steps_per_epoch` is not the same as the Keras 1 argument `samples_per_epoch`. `steps_per_epoch` is the number of batches to draw from the generator at each epoch. Basically steps_per_epoch = samples_per_epoch/batch_size. Similarly `nb_val_samples`->`validation_steps` and `val_samples`->`steps` arguments have changed. Update your method calls accordingly.\n",
      "  after removing the cwd from sys.path.\n",
      "/anaconda3/lib/python3.6/site-packages/ipykernel_launcher.py:4: UserWarning: Update your `fit_generator` call to the Keras 2 API: `fit_generator(<keras.pre..., validation_data=<keras.pre..., steps_per_epoch=125, epochs=30)`\n",
      "  after removing the cwd from sys.path.\n"
     ]
    },
    {
     "name": "stdout",
     "output_type": "stream",
     "text": [
      "Epoch 1/30\n",
      "125/125 [==============================] - 112s 894ms/step - loss: 0.7091 - acc: 0.5370 - val_loss: 0.6868 - val_acc: 0.5437\n",
      "Epoch 2/30\n",
      "125/125 [==============================] - 109s 869ms/step - loss: 0.6909 - acc: 0.5515 - val_loss: 0.6529 - val_acc: 0.6238\n",
      "Epoch 3/30\n",
      "125/125 [==============================] - 112s 899ms/step - loss: 0.6565 - acc: 0.6250 - val_loss: 0.5992 - val_acc: 0.6875\n",
      "Epoch 4/30\n",
      "125/125 [==============================] - 106s 850ms/step - loss: 0.6277 - acc: 0.6630 - val_loss: 0.5740 - val_acc: 0.6937\n",
      "Epoch 5/30\n",
      "125/125 [==============================] - 109s 869ms/step - loss: 0.6056 - acc: 0.6770 - val_loss: 0.5658 - val_acc: 0.7063\n",
      "Epoch 6/30\n",
      "125/125 [==============================] - 108s 861ms/step - loss: 0.5995 - acc: 0.6930 - val_loss: 0.6073 - val_acc: 0.6813\n",
      "Epoch 7/30\n",
      "125/125 [==============================] - 105s 837ms/step - loss: 0.5629 - acc: 0.7225 - val_loss: 0.5605 - val_acc: 0.7000\n",
      "Epoch 8/30\n",
      "125/125 [==============================] - 106s 851ms/step - loss: 0.5532 - acc: 0.7185 - val_loss: 0.5237 - val_acc: 0.7425\n",
      "Epoch 9/30\n",
      "125/125 [==============================] - 107s 858ms/step - loss: 0.5494 - acc: 0.7400 - val_loss: 0.5985 - val_acc: 0.7037\n",
      "Epoch 10/30\n",
      "125/125 [==============================] - 107s 853ms/step - loss: 0.5196 - acc: 0.7565 - val_loss: 0.5591 - val_acc: 0.7362\n",
      "Epoch 11/30\n",
      "125/125 [==============================] - 107s 854ms/step - loss: 0.5371 - acc: 0.7395 - val_loss: 0.4829 - val_acc: 0.7825\n",
      "Epoch 12/30\n",
      "125/125 [==============================] - 107s 859ms/step - loss: 0.5198 - acc: 0.7625 - val_loss: 0.5565 - val_acc: 0.7238\n",
      "Epoch 13/30\n",
      "125/125 [==============================] - 108s 862ms/step - loss: 0.5021 - acc: 0.7590 - val_loss: 0.5428 - val_acc: 0.7150\n",
      "Epoch 14/30\n",
      "125/125 [==============================] - 107s 858ms/step - loss: 0.4974 - acc: 0.7770 - val_loss: 0.5811 - val_acc: 0.7300\n",
      "Epoch 15/30\n",
      "125/125 [==============================] - 104s 834ms/step - loss: 0.5077 - acc: 0.7585 - val_loss: 0.5311 - val_acc: 0.7275\n",
      "Epoch 16/30\n",
      "125/125 [==============================] - 109s 872ms/step - loss: 0.4934 - acc: 0.7875 - val_loss: 0.5868 - val_acc: 0.7450\n",
      "Epoch 17/30\n",
      "125/125 [==============================] - 107s 860ms/step - loss: 0.4688 - acc: 0.7870 - val_loss: 0.7135 - val_acc: 0.7250\n",
      "Epoch 18/30\n",
      "125/125 [==============================] - 107s 855ms/step - loss: 0.4614 - acc: 0.7910 - val_loss: 0.5072 - val_acc: 0.7750\n",
      "Epoch 19/30\n",
      "125/125 [==============================] - 108s 862ms/step - loss: 0.4655 - acc: 0.7930 - val_loss: 0.5495 - val_acc: 0.7325\n",
      "Epoch 20/30\n",
      "125/125 [==============================] - 105s 841ms/step - loss: 0.4750 - acc: 0.7970 - val_loss: 0.4907 - val_acc: 0.7600\n",
      "Epoch 21/30\n",
      "125/125 [==============================] - 107s 852ms/step - loss: 0.4669 - acc: 0.7750 - val_loss: 0.5426 - val_acc: 0.7588\n",
      "Epoch 22/30\n",
      "125/125 [==============================] - 107s 853ms/step - loss: 0.4445 - acc: 0.8025 - val_loss: 0.6003 - val_acc: 0.7300\n",
      "Epoch 23/30\n",
      "125/125 [==============================] - 107s 852ms/step - loss: 0.4498 - acc: 0.8030 - val_loss: 0.5004 - val_acc: 0.7675\n",
      "Epoch 24/30\n",
      "125/125 [==============================] - 106s 851ms/step - loss: 0.4410 - acc: 0.8040 - val_loss: 0.5033 - val_acc: 0.7550\n",
      "Epoch 25/30\n",
      "125/125 [==============================] - 110s 880ms/step - loss: 0.4524 - acc: 0.7990 - val_loss: 0.5062 - val_acc: 0.7475\n",
      "Epoch 26/30\n",
      "125/125 [==============================] - 108s 865ms/step - loss: 0.4382 - acc: 0.8160 - val_loss: 0.5484 - val_acc: 0.7575\n",
      "Epoch 27/30\n",
      "125/125 [==============================] - 107s 859ms/step - loss: 0.4353 - acc: 0.8085 - val_loss: 0.4676 - val_acc: 0.7812\n",
      "Epoch 28/30\n",
      "125/125 [==============================] - 106s 850ms/step - loss: 0.4373 - acc: 0.8150 - val_loss: 0.5264 - val_acc: 0.7738\n",
      "Epoch 29/30\n",
      "125/125 [==============================] - 110s 877ms/step - loss: 0.4253 - acc: 0.8095 - val_loss: 0.4977 - val_acc: 0.7662\n",
      "Epoch 30/30\n",
      "125/125 [==============================] - 105s 843ms/step - loss: 0.4250 - acc: 0.8155 - val_loss: 0.5095 - val_acc: 0.7675\n"
     ]
    },
    {
     "data": {
      "text/plain": [
       "<keras.callbacks.History at 0x18d5f6e358>"
      ]
     },
     "execution_count": 56,
     "metadata": {},
     "output_type": "execute_result"
    }
   ],
   "source": [
    "model.fit_generator(train_datagen.flow(train, train_labels, batch_size=16),\n",
    "                    samples_per_epoch=train.shape[0],\n",
    "                    nb_epoch=30, \n",
    "                    validation_data=test_datagen.flow(test, test_labels))"
   ]
  },
  {
   "cell_type": "code",
   "execution_count": 57,
   "metadata": {
    "collapsed": true
   },
   "outputs": [],
   "source": [
    "model.save_weights('first_try.h5')  # always save your weights after training or during training"
   ]
  }
 ],
 "metadata": {
  "kernelspec": {
   "display_name": "Python 3",
   "language": "python",
   "name": "python3"
  },
  "language_info": {
   "codemirror_mode": {
    "name": "ipython",
    "version": 3
   },
   "file_extension": ".py",
   "mimetype": "text/x-python",
   "name": "python",
   "nbconvert_exporter": "python",
   "pygments_lexer": "ipython3",
   "version": "3.6.3"
  }
 },
 "nbformat": 4,
 "nbformat_minor": 2
}
