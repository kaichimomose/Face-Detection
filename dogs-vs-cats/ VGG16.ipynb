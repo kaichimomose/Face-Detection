{
 "cells": [
  {
   "cell_type": "code",
   "execution_count": 1,
   "metadata": {},
   "outputs": [
    {
     "name": "stderr",
     "output_type": "stream",
     "text": [
      "Using TensorFlow backend.\n"
     ]
    }
   ],
   "source": [
    "import numpy as np\n",
    "from keras.preprocessing.image import ImageDataGenerator\n",
    "from keras.models import Sequential\n",
    "from keras.layers import Dropout, Flatten, Dense\n",
    "from keras import applications"
   ]
  },
  {
   "cell_type": "code",
   "execution_count": 2,
   "metadata": {
    "collapsed": true
   },
   "outputs": [],
   "source": [
    "train_data = np.load('train_cats_and_dogs_images.npz')['arr_0'].reshape([-1, 150, 150, 3])\n",
    "\n",
    "test_data = np.load('test_cats_and_dogs_images.npz')['arr_0'].reshape([-1, 150, 150, 3])\n",
    "\n",
    "train = np.zeros([2000, 150, 150, 3])\n",
    "for i in range(2000):\n",
    "    train[i] = train_data[i]\n",
    "    \n",
    "test = np.zeros([800, 150, 150, 3])\n",
    "for i in range(800):\n",
    "    test[i] = test_data[i]"
   ]
  },
  {
   "cell_type": "code",
   "execution_count": 3,
   "metadata": {
    "collapsed": true
   },
   "outputs": [],
   "source": [
    "batch_size = 16"
   ]
  },
  {
   "cell_type": "code",
   "execution_count": 9,
   "metadata": {
    "collapsed": true
   },
   "outputs": [],
   "source": [
    "def save_bottleneck_features():\n",
    "    datagen = ImageDataGenerator(rescale=1./255)\n",
    "    \n",
    "    # build the VGG16 network\n",
    "    model = applications.VGG16(include_top=False, weights='imagenet')\n",
    "    \n",
    "    generator = datagen.flow(train, \n",
    "                             batch_size=batch_size,\n",
    "                             shuffle=False)\n",
    "    \n",
    "    bottleneck_features_train = model.predict_generator(generator, 2000 // batch_size)\n",
    "    np.save(open('bottleneck_features_train.npy', 'w'), bottleneck_features_train)\n",
    "    \n",
    "    generator = datagen.flow(test, \n",
    "                             batch_size=batch_size, \n",
    "                             shuffle=False)\n",
    "    \n",
    "    bottleneck_features_validation = model.predict_generator(generator, 800 // batch_size)\n",
    "    np.save(open('bottleneck_features_validation.npy', 'w'), bottleneck_features_validation)"
   ]
  },
  {
   "cell_type": "code",
   "execution_count": 5,
   "metadata": {
    "collapsed": true
   },
   "outputs": [],
   "source": [
    "def train_top_model():\n",
    "    train_data = np.load(open('bottleneck_features_train.npy'))\n",
    "    train_labels = np.array([0] * 1000 + [1] * 1000)\n",
    "    \n",
    "    test_data = np.load(open('bottleneck_features_validation.npy'))\n",
    "    test_labels = np.array([0] * 400 + [1] * 400)\n",
    "    \n",
    "    model = Sequential()\n",
    "    model.add(Flatten(input_shape=train_data[1:]))\n",
    "    model.add(Dense(256), activation='relu')\n",
    "    model.add(Dropout(0.5))\n",
    "    model.add(Dense(1), activation='sigmoid')\n",
    "    \n",
    "    model.compile(loss='binary_crossentropy', \n",
    "                  optimizer='rmsprop', \n",
    "                  metrics=['accuracy'])\n",
    "    \n",
    "    model.fit(train_data,\n",
    "              train_labels, \n",
    "              epoch=50,\n",
    "              batch_size=batch_size,\n",
    "              validation_data=(test_data, test_labels))\n",
    "    model.save_weights('bottleneck_fc_model.h5')"
   ]
  },
  {
   "cell_type": "code",
   "execution_count": null,
   "metadata": {},
   "outputs": [],
   "source": [
    "save_bottleneck_features()"
   ]
  },
  {
   "cell_type": "code",
   "execution_count": null,
   "metadata": {
    "collapsed": true
   },
   "outputs": [],
   "source": []
  }
 ],
 "metadata": {
  "kernelspec": {
   "display_name": "Python 3",
   "language": "python",
   "name": "python3"
  },
  "language_info": {
   "codemirror_mode": {
    "name": "ipython",
    "version": 3
   },
   "file_extension": ".py",
   "mimetype": "text/x-python",
   "name": "python",
   "nbconvert_exporter": "python",
   "pygments_lexer": "ipython3",
   "version": "3.6.3"
  }
 },
 "nbformat": 4,
 "nbformat_minor": 2
}
