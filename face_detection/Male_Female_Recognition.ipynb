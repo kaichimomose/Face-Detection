{
 "cells": [
  {
   "cell_type": "code",
   "execution_count": 1,
   "metadata": {},
   "outputs": [
    {
     "name": "stderr",
     "output_type": "stream",
     "text": [
      "Using TensorFlow backend.\n"
     ]
    }
   ],
   "source": [
    "import keras\n",
    "from keras.preprocessing.image import ImageDataGenerator\n",
    "from keras.models import Sequential\n",
    "from keras.layers import Conv2D, MaxPooling2D\n",
    "from keras.layers import Dense, Dropout, Flatten"
   ]
  },
  {
   "cell_type": "code",
   "execution_count": 5,
   "metadata": {},
   "outputs": [
    {
     "name": "stdout",
     "output_type": "stream",
     "text": [
      "_________________________________________________________________\n",
      "Layer (type)                 Output Shape              Param #   \n",
      "=================================================================\n",
      "conv2d_7 (Conv2D)            (None, 148, 148, 32)      896       \n",
      "_________________________________________________________________\n",
      "max_pooling2d_7 (MaxPooling2 (None, 74, 74, 32)        0         \n",
      "_________________________________________________________________\n",
      "conv2d_8 (Conv2D)            (None, 72, 72, 32)        9248      \n",
      "_________________________________________________________________\n",
      "max_pooling2d_8 (MaxPooling2 (None, 36, 36, 32)        0         \n",
      "_________________________________________________________________\n",
      "conv2d_9 (Conv2D)            (None, 34, 34, 64)        18496     \n",
      "_________________________________________________________________\n",
      "max_pooling2d_9 (MaxPooling2 (None, 17, 17, 64)        0         \n",
      "_________________________________________________________________\n",
      "flatten_3 (Flatten)          (None, 18496)             0         \n",
      "_________________________________________________________________\n",
      "dense_5 (Dense)              (None, 64)                1183808   \n",
      "_________________________________________________________________\n",
      "dropout_3 (Dropout)          (None, 64)                0         \n",
      "_________________________________________________________________\n",
      "dense_6 (Dense)              (None, 1)                 65        \n",
      "=================================================================\n",
      "Total params: 1,212,513\n",
      "Trainable params: 1,212,513\n",
      "Non-trainable params: 0\n",
      "_________________________________________________________________\n"
     ]
    }
   ],
   "source": [
    "model = Sequential()\n",
    "#convolutional\n",
    "model.add(Conv2D(32, (3, 3), input_shape=(150, 150, 3), activation='relu'))\n",
    "model.add(MaxPooling2D(pool_size=(2,2)))\n",
    "\n",
    "model.add(Conv2D(32, (3, 3), activation='relu'))\n",
    "model.add(MaxPooling2D(pool_size=(2,2)))\n",
    "\n",
    "model.add(Conv2D(64, (3, 3), activation='relu'))\n",
    "model.add(MaxPooling2D(pool_size=(2,2)))\n",
    "\n",
    "#fully connected layers\n",
    "model.add(Flatten())\n",
    "model.add(Dense(64, activation='relu'))\n",
    "model.add(Dropout(0.5))\n",
    "\n",
    "#output layer\n",
    "model.add(Dense(1, activation='sigmoid'))\n",
    "model.compile(loss='binary_crossentropy', optimizer='adam', metrics=['accuracy'])\n",
    "model.summary()"
   ]
  },
  {
   "cell_type": "code",
   "execution_count": 6,
   "metadata": {
    "collapsed": true
   },
   "outputs": [],
   "source": [
    "batch_size = 16"
   ]
  },
  {
   "cell_type": "code",
   "execution_count": 7,
   "metadata": {
    "collapsed": true
   },
   "outputs": [],
   "source": [
    "train_datagen = ImageDataGenerator(rescale=1./255, shear_range=0.2, zoom_range=0.2, horizontal_flip=True)\n",
    "test_datagen = ImageDataGenerator(rescale=1./255)"
   ]
  },
  {
   "cell_type": "code",
   "execution_count": 8,
   "metadata": {},
   "outputs": [
    {
     "name": "stdout",
     "output_type": "stream",
     "text": [
      "Found 1960 images belonging to 2 classes.\n",
      "Found 840 images belonging to 2 classes.\n"
     ]
    }
   ],
   "source": [
    "train_generator = train_datagen.flow_from_directory('male_female/train', target_size=(150, 150),\n",
    "                                                    batch_size=batch_size, class_mode='binary')\n",
    "validation_generator = test_datagen.flow_from_directory('male_female/validation', target_size=(150, 150),\n",
    "                                                        batch_size=batch_size, class_mode='binary')"
   ]
  },
  {
   "cell_type": "code",
   "execution_count": 9,
   "metadata": {
    "collapsed": true
   },
   "outputs": [],
   "source": [
    "callback = keras.callbacks.TensorBoard(log_dir='./logs', histogram_freq=0, batch_size=32, write_graph=True, \n",
    "                                       write_grads=False, write_images=False, embeddings_freq=0, \n",
    "                                       embeddings_layer_names=None, embeddings_metadata=None)"
   ]
  },
  {
   "cell_type": "code",
   "execution_count": 10,
   "metadata": {},
   "outputs": [
    {
     "name": "stdout",
     "output_type": "stream",
     "text": [
      "Epoch 1/30\n",
      "122/122 [==============================] - 146s 1s/step - loss: 0.4362 - acc: 0.7951 - val_loss: 0.2408 - val_acc: 0.9038\n",
      "Epoch 2/30\n",
      "122/122 [==============================] - 134s 1s/step - loss: 0.2524 - acc: 0.9109 - val_loss: 0.2319 - val_acc: 0.9279\n",
      "Epoch 3/30\n",
      "122/122 [==============================] - 136s 1s/step - loss: 0.2305 - acc: 0.9114 - val_loss: 0.2157 - val_acc: 0.9243\n",
      "Epoch 4/30\n",
      "122/122 [==============================] - 181s 1s/step - loss: 0.1823 - acc: 0.9283 - val_loss: 0.2446 - val_acc: 0.8930\n",
      "Epoch 5/30\n",
      "122/122 [==============================] - 169s 1s/step - loss: 0.1833 - acc: 0.9273 - val_loss: 0.2142 - val_acc: 0.9147\n",
      "Epoch 6/30\n",
      "122/122 [==============================] - 141s 1s/step - loss: 0.1509 - acc: 0.9421 - val_loss: 0.2476 - val_acc: 0.8942\n",
      "Epoch 7/30\n",
      "122/122 [==============================] - 139s 1s/step - loss: 0.1305 - acc: 0.9554 - val_loss: 0.2508 - val_acc: 0.9231\n",
      "Epoch 8/30\n",
      "122/122 [==============================] - 182s 1s/step - loss: 0.1247 - acc: 0.9493 - val_loss: 0.2063 - val_acc: 0.9327\n",
      "Epoch 9/30\n",
      "122/122 [==============================] - 167s 1s/step - loss: 0.1242 - acc: 0.9570 - val_loss: 0.1777 - val_acc: 0.9267\n",
      "Epoch 10/30\n",
      "122/122 [==============================] - 196s 2s/step - loss: 0.1075 - acc: 0.9595 - val_loss: 0.2613 - val_acc: 0.9243\n",
      "Epoch 11/30\n",
      "122/122 [==============================] - 181s 1s/step - loss: 0.0850 - acc: 0.9698 - val_loss: 0.2378 - val_acc: 0.9099\n",
      "Epoch 12/30\n",
      "122/122 [==============================] - 181s 1s/step - loss: 0.0818 - acc: 0.9647 - val_loss: 0.1976 - val_acc: 0.9171\n",
      "Epoch 13/30\n",
      "122/122 [==============================] - 197s 2s/step - loss: 0.0776 - acc: 0.9703 - val_loss: 0.2367 - val_acc: 0.9219\n",
      "Epoch 14/30\n",
      "122/122 [==============================] - 220s 2s/step - loss: 0.0623 - acc: 0.9785 - val_loss: 0.1887 - val_acc: 0.9459\n",
      "Epoch 15/30\n",
      "122/122 [==============================] - 226s 2s/step - loss: 0.0719 - acc: 0.9728 - val_loss: 0.3008 - val_acc: 0.8942\n",
      "Epoch 16/30\n",
      "122/122 [==============================] - 180s 1s/step - loss: 0.0659 - acc: 0.9775 - val_loss: 0.2211 - val_acc: 0.9291\n",
      "Epoch 17/30\n",
      "122/122 [==============================] - 176s 1s/step - loss: 0.0453 - acc: 0.9841 - val_loss: 0.2416 - val_acc: 0.9243\n",
      "Epoch 18/30\n",
      "122/122 [==============================] - 176s 1s/step - loss: 0.0425 - acc: 0.9831 - val_loss: 0.2000 - val_acc: 0.9411\n",
      "Epoch 19/30\n",
      "122/122 [==============================] - 176s 1s/step - loss: 0.0464 - acc: 0.9810 - val_loss: 0.2501 - val_acc: 0.9375\n",
      "Epoch 20/30\n",
      "122/122 [==============================] - 175s 1s/step - loss: 0.0483 - acc: 0.9821 - val_loss: 0.2639 - val_acc: 0.9327\n",
      "Epoch 21/30\n",
      "122/122 [==============================] - 178s 1s/step - loss: 0.0304 - acc: 0.9903 - val_loss: 0.3047 - val_acc: 0.9147\n",
      "Epoch 22/30\n",
      "122/122 [==============================] - 184s 2s/step - loss: 0.0572 - acc: 0.9775 - val_loss: 0.2098 - val_acc: 0.9291\n",
      "Epoch 23/30\n",
      "122/122 [==============================] - 179s 1s/step - loss: 0.0448 - acc: 0.9851 - val_loss: 0.2408 - val_acc: 0.9435\n",
      "Epoch 24/30\n",
      "122/122 [==============================] - 196s 2s/step - loss: 0.0239 - acc: 0.9898 - val_loss: 0.2802 - val_acc: 0.9243\n",
      "Epoch 25/30\n",
      "122/122 [==============================] - 173s 1s/step - loss: 0.0435 - acc: 0.9800 - val_loss: 0.1856 - val_acc: 0.9375\n",
      "Epoch 26/30\n",
      "122/122 [==============================] - 184s 2s/step - loss: 0.0324 - acc: 0.9892 - val_loss: 0.2823 - val_acc: 0.9267\n",
      "Epoch 27/30\n",
      "122/122 [==============================] - 173s 1s/step - loss: 0.0337 - acc: 0.9892 - val_loss: 0.3459 - val_acc: 0.9255\n",
      "Epoch 28/30\n",
      "122/122 [==============================] - 171s 1s/step - loss: 0.0555 - acc: 0.9785 - val_loss: 0.2946 - val_acc: 0.9267\n",
      "Epoch 29/30\n",
      "122/122 [==============================] - 171s 1s/step - loss: 0.0270 - acc: 0.9908 - val_loss: 0.3233 - val_acc: 0.9267\n",
      "Epoch 30/30\n",
      "122/122 [==============================] - 172s 1s/step - loss: 0.0339 - acc: 0.9872 - val_loss: 0.1873 - val_acc: 0.9435\n"
     ]
    },
    {
     "data": {
      "text/plain": [
       "<keras.callbacks.History at 0x1123e9438>"
      ]
     },
     "execution_count": 10,
     "metadata": {},
     "output_type": "execute_result"
    }
   ],
   "source": [
    "model.fit_generator(train_generator, steps_per_epoch=1960//batch_size, epochs=30,\n",
    "                    validation_data=validation_generator, validation_steps=840//batch_size, callbacks=[callback])"
   ]
  },
  {
   "cell_type": "markdown",
   "metadata": {},
   "source": [
    "# Benchmark"
   ]
  },
  {
   "cell_type": "markdown",
   "metadata": {},
   "source": [
    "1, conv 64 'relu', layer 64 'relu', layer 1 'sigmoid' \n",
    "   epocha 10, batch size 16, optimizer 'rmsprop'\n",
    "   loss: 0.1637 - acc: 0.9467 - val_loss: 0.2429 - val_acc: 0.9135\n",
    "\n",
    "2, conv 32 'relu', conv 64 'relu', layer 64 'relu', layer 1 'sigmoid'\n",
    "   epocha 10, batch size 16, optimizer 'rmsprop'\n",
    "   loss: 0.1403 - acc: 0.9595 - val_loss: 0.2117 - val_acc: 0.9026\n",
    "   \n",
    "3, conv 32 'relu', conv 32 'relu', conv 64 'relu', layer 64 'relu', layer 1 'sigmoid'\n",
    "   epocha 10, batch size 16, optimizer 'rmsprop'\n",
    "   loss: 0.1287 - acc: 0.9513 - val_loss: 0.2827 - val_acc: 0.9038\n",
    "   \n",
    "4, conv 32 'relu', conv 32 'relu', conv 64 'relu', layer 64 'relu', layer 1 'sigmoid'\n",
    "   epocha 20, batch size 16, optimizer 'rmsprop'\n",
    "   loss: 0.0752 - acc: 0.9744 - val_loss: 0.2794 - val_acc: 0.9363\n",
    "   \n",
    "5, conv 32 'relu', conv 32 'relu', conv 64 'relu', layer 64 'relu', layer 1 'sigmoid'\n",
    "   epocha 30, batch size 16, optimizer 'rmsprop'\n",
    "   loss: 0.0750 - acc: 0.9785 - val_loss: 0.2379 - val_acc: 0.9303\n",
    "   \n",
    "6, conv 32 'relu', conv 32 'relu', conv 64 'relu', layer 64 'relu', layer 1 'sigmoid'\n",
    "   epocha 50, batch size 16, optimizer 'rmsprop'\n",
    "   loss: 0.0984 - acc: 0.9810 - val_loss: 0.8020 - val_acc: 0.9327\n",
    "   "
   ]
  },
  {
   "cell_type": "code",
   "execution_count": 32,
   "metadata": {
    "collapsed": true
   },
   "outputs": [],
   "source": [
    "model.save_weights('male_female_recognition_model.h5')"
   ]
  },
  {
   "cell_type": "code",
   "execution_count": null,
   "metadata": {
    "collapsed": true
   },
   "outputs": [],
   "source": []
  }
 ],
 "metadata": {
  "kernelspec": {
   "display_name": "Python 3",
   "language": "python",
   "name": "python3"
  },
  "language_info": {
   "codemirror_mode": {
    "name": "ipython",
    "version": 3
   },
   "file_extension": ".py",
   "mimetype": "text/x-python",
   "name": "python",
   "nbconvert_exporter": "python",
   "pygments_lexer": "ipython3",
   "version": "3.6.3"
  }
 },
 "nbformat": 4,
 "nbformat_minor": 2
}
