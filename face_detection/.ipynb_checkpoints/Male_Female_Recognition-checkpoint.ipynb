{
 "cells": [
  {
   "cell_type": "code",
   "execution_count": 5,
   "metadata": {},
   "outputs": [],
   "source": [
    "import keras\n",
    "from keras.preprocessing.image import ImageDataGenerator\n",
    "from keras.models import Sequential\n",
    "from keras.layers import Conv2D, MaxPooling2D\n",
    "from keras.layers import Dense, Dropout, Flatten"
   ]
  },
  {
   "cell_type": "code",
   "execution_count": 30,
   "metadata": {},
   "outputs": [
    {
     "name": "stdout",
     "output_type": "stream",
     "text": [
      "_________________________________________________________________\n",
      "Layer (type)                 Output Shape              Param #   \n",
      "=================================================================\n",
      "conv2d_18 (Conv2D)           (None, 148, 148, 32)      896       \n",
      "_________________________________________________________________\n",
      "max_pooling2d_18 (MaxPooling (None, 74, 74, 32)        0         \n",
      "_________________________________________________________________\n",
      "conv2d_19 (Conv2D)           (None, 72, 72, 32)        9248      \n",
      "_________________________________________________________________\n",
      "max_pooling2d_19 (MaxPooling (None, 36, 36, 32)        0         \n",
      "_________________________________________________________________\n",
      "conv2d_20 (Conv2D)           (None, 34, 34, 64)        18496     \n",
      "_________________________________________________________________\n",
      "max_pooling2d_20 (MaxPooling (None, 17, 17, 64)        0         \n",
      "_________________________________________________________________\n",
      "flatten_9 (Flatten)          (None, 18496)             0         \n",
      "_________________________________________________________________\n",
      "dense_17 (Dense)             (None, 64)                1183808   \n",
      "_________________________________________________________________\n",
      "dropout_9 (Dropout)          (None, 64)                0         \n",
      "_________________________________________________________________\n",
      "dense_18 (Dense)             (None, 1)                 65        \n",
      "=================================================================\n",
      "Total params: 1,212,513\n",
      "Trainable params: 1,212,513\n",
      "Non-trainable params: 0\n",
      "_________________________________________________________________\n"
     ]
    }
   ],
   "source": [
    "model = Sequential()\n",
    "#convolutional\n",
    "model.add(Conv2D(32, (3, 3), input_shape=(150, 150, 3), activation='relu'))\n",
    "model.add(MaxPooling2D(pool_size=(2,2)))\n",
    "\n",
    "model.add(Conv2D(32, (3, 3), activation='relu'))\n",
    "model.add(MaxPooling2D(pool_size=(2,2)))\n",
    "\n",
    "model.add(Conv2D(64, (3, 3), activation='relu'))\n",
    "model.add(MaxPooling2D(pool_size=(2,2)))\n",
    "\n",
    "#fully connected layers\n",
    "model.add(Flatten())\n",
    "model.add(Dense(64, activation='relu'))\n",
    "model.add(Dropout(0.5))\n",
    "\n",
    "#output layer\n",
    "model.add(Dense(1, activation='sigmoid'))\n",
    "model.compile(loss='binary_crossentropy', optimizer='rmsprop', metrics=['accuracy'])\n",
    "model.summary()"
   ]
  },
  {
   "cell_type": "code",
   "execution_count": 9,
   "metadata": {
    "collapsed": true
   },
   "outputs": [],
   "source": [
    "batch_size = 16"
   ]
  },
  {
   "cell_type": "code",
   "execution_count": 10,
   "metadata": {
    "collapsed": true
   },
   "outputs": [],
   "source": [
    "train_datagen = ImageDataGenerator(rescale=1./255, shear_range=0.2, zoom_range=0.2, horizontal_flip=True)\n",
    "test_datagen = ImageDataGenerator(rescale=1./255)"
   ]
  },
  {
   "cell_type": "code",
   "execution_count": 12,
   "metadata": {},
   "outputs": [
    {
     "name": "stdout",
     "output_type": "stream",
     "text": [
      "Found 1960 images belonging to 2 classes.\n",
      "Found 840 images belonging to 2 classes.\n"
     ]
    }
   ],
   "source": [
    "train_generator = train_datagen.flow_from_directory('male_female/train', target_size=(150, 150),\n",
    "                                                    batch_size=batch_size, class_mode='binary')\n",
    "validation_generator = test_datagen.flow_from_directory('male_female/validation', target_size=(150, 150),\n",
    "                                                        batch_size=batch_size, class_mode='binary')"
   ]
  },
  {
   "cell_type": "code",
   "execution_count": 13,
   "metadata": {
    "collapsed": true
   },
   "outputs": [],
   "source": [
    "callback = keras.callbacks.TensorBoard(log_dir='./logs', histogram_freq=0, batch_size=32, write_graph=True, \n",
    "                                       write_grads=False, write_images=False, embeddings_freq=0, \n",
    "                                       embeddings_layer_names=None, embeddings_metadata=None)"
   ]
  },
  {
   "cell_type": "code",
   "execution_count": 31,
   "metadata": {},
   "outputs": [
    {
     "name": "stdout",
     "output_type": "stream",
     "text": [
      "Epoch 1/30\n",
      "122/122 [==============================] - 121s 989ms/step - loss: 0.4942 - acc: 0.7843 - val_loss: 0.3023 - val_acc: 0.8834\n",
      "Epoch 2/30\n",
      "122/122 [==============================] - 112s 915ms/step - loss: 0.2820 - acc: 0.8929 - val_loss: 0.3249 - val_acc: 0.8942\n",
      "Epoch 3/30\n",
      "122/122 [==============================] - 112s 915ms/step - loss: 0.2405 - acc: 0.9093 - val_loss: 0.2395 - val_acc: 0.9255\n",
      "Epoch 4/30\n",
      "122/122 [==============================] - 111s 912ms/step - loss: 0.2136 - acc: 0.9185 - val_loss: 0.2859 - val_acc: 0.8786\n",
      "Epoch 5/30\n",
      "122/122 [==============================] - 111s 907ms/step - loss: 0.1747 - acc: 0.9293 - val_loss: 0.2870 - val_acc: 0.8930\n",
      "Epoch 6/30\n",
      "122/122 [==============================] - 111s 908ms/step - loss: 0.1792 - acc: 0.9396 - val_loss: 0.3097 - val_acc: 0.9087\n",
      "Epoch 7/30\n",
      "122/122 [==============================] - 111s 910ms/step - loss: 0.1482 - acc: 0.9549 - val_loss: 0.2467 - val_acc: 0.9183\n",
      "Epoch 8/30\n",
      "122/122 [==============================] - 111s 910ms/step - loss: 0.1619 - acc: 0.9442 - val_loss: 0.2538 - val_acc: 0.9279\n",
      "Epoch 9/30\n",
      "122/122 [==============================] - 111s 909ms/step - loss: 0.1486 - acc: 0.9503 - val_loss: 0.2523 - val_acc: 0.9267\n",
      "Epoch 10/30\n",
      "122/122 [==============================] - 111s 908ms/step - loss: 0.1336 - acc: 0.9539 - val_loss: 0.2369 - val_acc: 0.9339\n",
      "Epoch 11/30\n",
      "122/122 [==============================] - 111s 907ms/step - loss: 0.1296 - acc: 0.9570 - val_loss: 0.2537 - val_acc: 0.8762\n",
      "Epoch 12/30\n",
      "122/122 [==============================] - 111s 911ms/step - loss: 0.1189 - acc: 0.9641 - val_loss: 0.2667 - val_acc: 0.9159\n",
      "Epoch 13/30\n",
      "122/122 [==============================] - 110s 903ms/step - loss: 0.0891 - acc: 0.9677 - val_loss: 0.2841 - val_acc: 0.9291\n",
      "Epoch 14/30\n",
      "122/122 [==============================] - 111s 907ms/step - loss: 0.0898 - acc: 0.9687 - val_loss: 0.3172 - val_acc: 0.9243\n",
      "Epoch 15/30\n",
      "122/122 [==============================] - 110s 898ms/step - loss: 0.1105 - acc: 0.9693 - val_loss: 0.2192 - val_acc: 0.9375\n",
      "Epoch 16/30\n",
      "122/122 [==============================] - 110s 902ms/step - loss: 0.0865 - acc: 0.9723 - val_loss: 0.2019 - val_acc: 0.9339\n",
      "Epoch 17/30\n",
      "122/122 [==============================] - 110s 901ms/step - loss: 0.0900 - acc: 0.9744 - val_loss: 0.4924 - val_acc: 0.8978\n",
      "Epoch 18/30\n",
      "122/122 [==============================] - 110s 899ms/step - loss: 0.0913 - acc: 0.9749 - val_loss: 0.3417 - val_acc: 0.9327\n",
      "Epoch 19/30\n",
      "122/122 [==============================] - 110s 901ms/step - loss: 0.1017 - acc: 0.9672 - val_loss: 0.5895 - val_acc: 0.8990\n",
      "Epoch 20/30\n",
      "122/122 [==============================] - 110s 901ms/step - loss: 0.0683 - acc: 0.9754 - val_loss: 0.4046 - val_acc: 0.9351\n",
      "Epoch 21/30\n",
      "122/122 [==============================] - 110s 899ms/step - loss: 0.0937 - acc: 0.9759 - val_loss: 0.3517 - val_acc: 0.9195\n",
      "Epoch 22/30\n",
      "122/122 [==============================] - 111s 908ms/step - loss: 0.0814 - acc: 0.9780 - val_loss: 0.2164 - val_acc: 0.9411\n",
      "Epoch 23/30\n",
      "122/122 [==============================] - 111s 907ms/step - loss: 0.0853 - acc: 0.9728 - val_loss: 0.3565 - val_acc: 0.9303\n",
      "Epoch 24/30\n",
      "122/122 [==============================] - 111s 913ms/step - loss: 0.0786 - acc: 0.9769 - val_loss: 0.3079 - val_acc: 0.9363\n",
      "Epoch 25/30\n",
      "122/122 [==============================] - 119s 973ms/step - loss: 0.0906 - acc: 0.9708 - val_loss: 0.3348 - val_acc: 0.9375\n",
      "Epoch 26/30\n",
      "122/122 [==============================] - 125s 1s/step - loss: 0.0947 - acc: 0.9754 - val_loss: 0.2597 - val_acc: 0.9387\n",
      "Epoch 27/30\n",
      "122/122 [==============================] - 130s 1s/step - loss: 0.0605 - acc: 0.9857 - val_loss: 0.2583 - val_acc: 0.9339\n",
      "Epoch 28/30\n",
      "122/122 [==============================] - 115s 945ms/step - loss: 0.0688 - acc: 0.9821 - val_loss: 0.2729 - val_acc: 0.9411\n",
      "Epoch 29/30\n",
      "122/122 [==============================] - 127s 1s/step - loss: 0.1163 - acc: 0.9754 - val_loss: 0.1794 - val_acc: 0.9411\n",
      "Epoch 30/30\n",
      "122/122 [==============================] - 127s 1s/step - loss: 0.0750 - acc: 0.9785 - val_loss: 0.2379 - val_acc: 0.9303\n"
     ]
    },
    {
     "data": {
      "text/plain": [
       "<keras.callbacks.History at 0x1a434aabe0>"
      ]
     },
     "execution_count": 31,
     "metadata": {},
     "output_type": "execute_result"
    }
   ],
   "source": [
    "model.fit_generator(train_generator, steps_per_epoch=1960//batch_size, epochs=30,\n",
    "                    validation_data=validation_generator, validation_steps=840//batch_size, callbacks=[callback])"
   ]
  },
  {
   "cell_type": "markdown",
   "metadata": {},
   "source": [
    "# Benchmark"
   ]
  },
  {
   "cell_type": "markdown",
   "metadata": {},
   "source": [
    "1, conv 64 'relu', layer 64 'relu', layer 1 'sigmoid' \n",
    "   epocha 10, batch size 16\n",
    "   loss: 0.1637 - acc: 0.9467 - val_loss: 0.2429 - val_acc: 0.9135\n",
    "\n",
    "2, conv 32 'relu', conv 64 'relu', layer 64 'relu', layer 1 'sigmoid'\n",
    "   epocha 10, batch size 16\n",
    "   loss: 0.1403 - acc: 0.9595 - val_loss: 0.2117 - val_acc: 0.9026\n",
    "   \n",
    "3, conv 32 'relu', conv 32 'relu', conv 64 'relu', layer 64 'relu', layer 1 'sigmoid'\n",
    "   epocha 10, batch size 16\n",
    "   loss: 0.1287 - acc: 0.9513 - val_loss: 0.2827 - val_acc: 0.9038\n",
    "   \n",
    "4, conv 32 'relu', conv 32 'relu', conv 64 'relu', layer 64 'relu', layer 1 'sigmoid'\n",
    "   epocha 20, batch size 16\n",
    "   loss: 0.0752 - acc: 0.9744 - val_loss: 0.2794 - val_acc: 0.9363\n",
    "   \n",
    "### 5, conv 32 'relu', conv 32 'relu', conv 64 'relu', layer 64 'relu', layer 1 'sigmoid'\n",
    "###     epocha 30, batch size 16\n",
    "###     loss: 0.0750 - acc: 0.9785 - val_loss: 0.2379 - val_acc: 0.9303\n",
    "   \n",
    "6, conv 32 'relu', conv 32 'relu', conv 64 'relu', layer 64 'relu', layer 1 'sigmoid'\n",
    "   epocha 50, batch size 16\n",
    "   loss: 0.0984 - acc: 0.9810 - val_loss: 0.8020 - val_acc: 0.9327"
   ]
  },
  {
   "cell_type": "code",
   "execution_count": 32,
   "metadata": {
    "collapsed": true
   },
   "outputs": [],
   "source": [
    "model.save_weights('male_female_recognition_model.h5')"
   ]
  },
  {
   "cell_type": "code",
   "execution_count": null,
   "metadata": {
    "collapsed": true
   },
   "outputs": [],
   "source": []
  }
 ],
 "metadata": {
  "kernelspec": {
   "display_name": "Python 3",
   "language": "python",
   "name": "python3"
  },
  "language_info": {
   "codemirror_mode": {
    "name": "ipython",
    "version": 3
   },
   "file_extension": ".py",
   "mimetype": "text/x-python",
   "name": "python",
   "nbconvert_exporter": "python",
   "pygments_lexer": "ipython3",
   "version": "3.6.3"
  }
 },
 "nbformat": 4,
 "nbformat_minor": 2
}
