{
 "cells": [
  {
   "cell_type": "code",
   "execution_count": 29,
   "metadata": {},
   "outputs": [],
   "source": [
    "import numpy as np\n",
    "import keras\n",
    "from keras.preprocessing.image import ImageDataGenerator\n",
    "from keras.models import Sequential\n",
    "from keras.layers import Conv2D, MaxPooling2D\n",
    "from keras.layers import Activation, Dropout, Flatten, Dense"
   ]
  },
  {
   "cell_type": "code",
   "execution_count": 32,
   "metadata": {},
   "outputs": [
    {
     "name": "stdout",
     "output_type": "stream",
     "text": [
      "_________________________________________________________________\n",
      "Layer (type)                 Output Shape              Param #   \n",
      "=================================================================\n",
      "conv2d_6 (Conv2D)            (None, 148, 148, 64)      1792      \n",
      "_________________________________________________________________\n",
      "max_pooling2d_6 (MaxPooling2 (None, 74, 74, 64)        0         \n",
      "_________________________________________________________________\n",
      "flatten_6 (Flatten)          (None, 350464)            0         \n",
      "_________________________________________________________________\n",
      "dense_7 (Dense)              (None, 64)                22429760  \n",
      "_________________________________________________________________\n",
      "dropout_4 (Dropout)          (None, 64)                0         \n",
      "_________________________________________________________________\n",
      "dense_8 (Dense)              (None, 1)                 65        \n",
      "=================================================================\n",
      "Total params: 22,431,617\n",
      "Trainable params: 22,431,617\n",
      "Non-trainable params: 0\n",
      "_________________________________________________________________\n"
     ]
    }
   ],
   "source": [
    "model = Sequential()\n",
    "model.add(Conv2D(64, (3, 3), input_shape=(150, 150, 3), activation='relu'))\n",
    "model.add(MaxPooling2D(pool_size=(2, 2)))\n",
    "\n",
    "model.add(Flatten())\n",
    "model.add(Dense(64, activation='relu'))\n",
    "model.add(Dropout(0.5))\n",
    "\n",
    "model.add(Dense(1, activation='sigmoid'))\n",
    "model.compile(loss=\"binary_crossentropy\", optimizer='rmsprop', metrics=['accuracy'])\n",
    "model.summary()"
   ]
  },
  {
   "cell_type": "code",
   "execution_count": 7,
   "metadata": {
    "collapsed": true
   },
   "outputs": [],
   "source": [
    "batch_size = 16"
   ]
  },
  {
   "cell_type": "code",
   "execution_count": 10,
   "metadata": {},
   "outputs": [],
   "source": [
    "train_datagen = ImageDataGenerator(rescale=1./255, shear_range=0.2, zoom_range=0.2, horizontal_flip=True)\n",
    "test_datagen = ImageDataGenerator(rescale=1./255)"
   ]
  },
  {
   "cell_type": "code",
   "execution_count": 23,
   "metadata": {},
   "outputs": [
    {
     "name": "stdout",
     "output_type": "stream",
     "text": [
      "Found 980 images belonging to 2 classes.\n"
     ]
    }
   ],
   "source": [
    "train_generator = train_datagen.flow_from_directory('images/train', target_size=(150, 150), batch_size=batch_size, class_mode='binary')"
   ]
  },
  {
   "cell_type": "code",
   "execution_count": 24,
   "metadata": {},
   "outputs": [
    {
     "name": "stdout",
     "output_type": "stream",
     "text": [
      "Found 420 images belonging to 2 classes.\n"
     ]
    }
   ],
   "source": [
    "test_generator = test_datagen.flow_from_directory('images/validation', target_size=(150, 150), batch_size=batch_size, class_mode='binary')"
   ]
  },
  {
   "cell_type": "code",
   "execution_count": 30,
   "metadata": {
    "collapsed": true
   },
   "outputs": [],
   "source": [
    "callback = keras.callbacks.TensorBoard(log_dir='./logs', histogram_freq=0, batch_size=32, write_graph=True, \n",
    "                                       write_grads=False, write_images=False, embeddings_freq=0, \n",
    "                                       embeddings_layer_names=None, embeddings_metadata=None)"
   ]
  },
  {
   "cell_type": "code",
   "execution_count": 33,
   "metadata": {
    "scrolled": true
   },
   "outputs": [
    {
     "name": "stdout",
     "output_type": "stream",
     "text": [
      "Epoch 1/10\n",
      "60/61 [============================>.] - ETA: 1s - loss: 1.8678 - acc: 0.8281"
     ]
    },
    {
     "name": "stderr",
     "output_type": "stream",
     "text": [
      "/anaconda3/lib/python3.6/site-packages/PIL/Image.py:888: UserWarning: Palette images with Transparency   expressed in bytes should be converted to RGBA images\n",
      "  'to RGBA images')\n"
     ]
    },
    {
     "name": "stdout",
     "output_type": "stream",
     "text": [
      "61/61 [==============================] - 88s 1s/step - loss: 1.8379 - acc: 0.8309 - val_loss: 8.5625e-05 - val_acc: 1.0000\n",
      "Epoch 2/10\n",
      "61/61 [==============================] - 77s 1s/step - loss: 0.1518 - acc: 0.9703 - val_loss: 0.0010 - val_acc: 1.0000\n",
      "Epoch 3/10\n",
      "61/61 [==============================] - 76s 1s/step - loss: 0.2117 - acc: 0.9672 - val_loss: 0.1033 - val_acc: 0.9880\n",
      "Epoch 4/10\n",
      "61/61 [==============================] - 77s 1s/step - loss: 0.1553 - acc: 0.9785 - val_loss: 3.6980e-04 - val_acc: 1.0000\n",
      "Epoch 5/10\n",
      "61/61 [==============================] - 77s 1s/step - loss: 0.3460 - acc: 0.9631 - val_loss: 0.0022 - val_acc: 0.9976\n",
      "Epoch 6/10\n",
      "61/61 [==============================] - 77s 1s/step - loss: 0.2983 - acc: 0.9775 - val_loss: 0.0195 - val_acc: 0.9976\n",
      "Epoch 7/10\n",
      "61/61 [==============================] - 79s 1s/step - loss: 0.1351 - acc: 0.9826 - val_loss: 0.0092 - val_acc: 0.9976\n",
      "Epoch 8/10\n",
      "61/61 [==============================] - 83s 1s/step - loss: 0.1918 - acc: 0.9785 - val_loss: 2.2658e-06 - val_acc: 1.0000\n",
      "Epoch 9/10\n",
      "61/61 [==============================] - 83s 1s/step - loss: 0.2804 - acc: 0.9723 - val_loss: 0.1836 - val_acc: 0.9832\n",
      "Epoch 10/10\n",
      "61/61 [==============================] - 78s 1s/step - loss: 0.2606 - acc: 0.9775 - val_loss: 5.8851e-04 - val_acc: 1.0000\n"
     ]
    },
    {
     "data": {
      "text/plain": [
       "<keras.callbacks.History at 0x182ce80828>"
      ]
     },
     "execution_count": 33,
     "metadata": {},
     "output_type": "execute_result"
    }
   ],
   "source": [
    "model.fit_generator(train_generator, steps_per_epoch=980 // batch_size, epochs=10, \n",
    "                    validation_data=test_generator, validation_steps=420 // batch_size, callbacks=[callback])"
   ]
  },
  {
   "cell_type": "code",
   "execution_count": null,
   "metadata": {
    "collapsed": true
   },
   "outputs": [],
   "source": []
  }
 ],
 "metadata": {
  "kernelspec": {
   "display_name": "Python 3",
   "language": "python",
   "name": "python3"
  },
  "language_info": {
   "codemirror_mode": {
    "name": "ipython",
    "version": 3
   },
   "file_extension": ".py",
   "mimetype": "text/x-python",
   "name": "python",
   "nbconvert_exporter": "python",
   "pygments_lexer": "ipython3",
   "version": "3.6.3"
  }
 },
 "nbformat": 4,
 "nbformat_minor": 2
}
